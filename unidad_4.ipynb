{
  "nbformat": 4,
  "nbformat_minor": 0,
  "metadata": {
    "colab": {
      "provenance": [],
      "collapsed_sections": [
        "9j0rBiGifM3_",
        "MQWWd_OQfn_K"
      ],
      "include_colab_link": true
    },
    "kernelspec": {
      "name": "python3",
      "display_name": "Python 3"
    },
    "language_info": {
      "name": "python"
    }
  },
  "cells": [
    {
      "cell_type": "markdown",
      "metadata": {
        "id": "view-in-github",
        "colab_type": "text"
      },
      "source": [
        "<a href=\"https://colab.research.google.com/github/IsabelCGarciaA/Atencion-/blob/main/unidad_4.ipynb\" target=\"_parent\"><img src=\"https://colab.research.google.com/assets/colab-badge.svg\" alt=\"Open In Colab\"/></a>"
      ]
    },
    {
      "cell_type": "markdown",
      "source": [
        "<p><img alt=\"Colaboratory logo\" height=\"140px\" src=\"https://www.javerianacali.edu.co/sites/default/files/2023-02/marcaPUJ-Cali_CMYK_azul_estucados_central_0.png\" align=\"left\" hspace=\"10px\" vspace=\"0px\"></p>\n",
        "\n",
        "# **Diplomado de Análisis de datos y Machine Learning en Python**"
      ],
      "metadata": {
        "id": "JA6uCadH-hJ-"
      }
    },
    {
      "cell_type": "markdown",
      "metadata": {
        "id": "kUkIpVtwGNZX"
      },
      "source": [
        "## **Contenido**\n",
        "\n",
        "- <a href=\"#fun\"> Funciones</a><br>\n",
        "  - <a href=\"#arg\"> Argumentos de la función</a><br>\n",
        "    - <a href=\"#req\"> Argumentos requeridos</a><br>\n",
        "    - <a href=\"#pre\"> Argumentos predeterminados</a><br>\n",
        "  - <a href=\"#alc\"> Alcance de las variables</a><br>\n",
        "- <a href=\"#cla\"> Clases </a><br>\n"
      ]
    },
    {
      "cell_type": "markdown",
      "metadata": {
        "id": "_UpboY60e292"
      },
      "source": [
        "<p><a name=\"fun\"></a></p>\n",
        "\n",
        "# **Funciones**\n",
        "\n",
        "Hasta ahora, nuestros programas han sido bloques de código simples y de un solo uso. Una forma de organizar y hacer más legible nuestro código en Python es dividirlo en funciones reutilizables. Las funciones son piezas de código que realizan una tarea específica y que podemos usar varias veces. Ya hemos visto funciones antes. Por ejemplo, `print()` es una función que muestra texto en la pantalla:"
      ]
    },
    {
      "cell_type": "code",
      "metadata": {
        "colab": {
          "base_uri": "https://localhost:8080/"
        },
        "id": "Ujr6sau-e5BH",
        "outputId": "bf2d9d90-fc2f-4fd0-d855-047c53cde1cd"
      },
      "source": [
        "print(\"abc\")"
      ],
      "execution_count": null,
      "outputs": [
        {
          "output_type": "stream",
          "name": "stdout",
          "text": [
            "abc\n"
          ]
        }
      ]
    },
    {
      "cell_type": "markdown",
      "metadata": {
        "id": "STNZUiKdGkvw"
      },
      "source": [
        "Aquí `print` es el nombre de la función, y `\"abc\"` es el *argumento* de la función. Los argumentos son valores que le pasamos a la función para que los utilice en su ejecución.\n",
        "\n",
        "Las funciones pueden recibir dos tipos de argumentos: argumentos requeridos y argumentos opcionales o por palabra clave (*keyword arguments* o *kwargs*). Los argumentos requeridos son aquellos que la función necesita obligatoriamente para funcionar correctamente. En cambio, los argumentos opcionales son aquellos que podemos incluir si lo deseamos para modificar el comportamiento de la función.\n",
        "\n",
        "acontiuacion se presentan algunos ejemplos de argumetnso requeridos y opcionales"
      ]
    },
    {
      "cell_type": "markdown",
      "source": [
        "**Ejemplo 1**: La función `print()` es una de las funciones más utilizadas en Python para mostrar información en la consola. Esta función puede recibir tanto argumentos requeridos como opcionales."
      ],
      "metadata": {
        "id": "n8TWMmeHho10"
      }
    },
    {
      "cell_type": "code",
      "source": [
        "# Argumento requerido: el objeto a imprimir\n",
        "print(\"Hola, mundo!\")\n",
        "\n",
        "# Argumentos opcionales: sep, end, file, flush\n",
        "print(\"Hola\", \"mundo\", sep=\"-\", end=\"!\\n\")\n"
      ],
      "metadata": {
        "colab": {
          "base_uri": "https://localhost:8080/"
        },
        "id": "3OrXaMubhouA",
        "outputId": "fa137f45-9637-4adb-b4f9-dd8bb1eaca24"
      },
      "execution_count": null,
      "outputs": [
        {
          "output_type": "stream",
          "name": "stdout",
          "text": [
            "Hola, mundo!\n",
            "Hola-mundo!\n"
          ]
        }
      ]
    },
    {
      "cell_type": "markdown",
      "source": [
        "- Argumento requerido: En el primer caso, \"Hola, mundo!\" es el argumento requerido. Este es el valor que se imprimirá en la consola.\n",
        "\n",
        "- Argumentos opcionales:\n",
        "\n",
        "    - `sep`: Este argumento opcional define el separador entre los objetos que se van a imprimir. En el segundo ejemplo, `sep=\"-\"` significa que los valores \"Hola\" y \"mundo\" estarán separados por un guion - en lugar del espacio predeterminado.\n",
        "\n",
        "    - `end`: Este argumento opcional define el carácter o la cadena que se imprimirá al final de la salida. En el segundo ejemplo, `end=\"!\\n\"` añade un signo de exclamación seguido de una nueva línea al final de la salida."
      ],
      "metadata": {
        "id": "9yacKDlGhwjW"
      }
    },
    {
      "cell_type": "markdown",
      "source": [
        "**Ejemplo 2**: La función sorted() se utiliza para ordenar los elementos de un iterable, como una lista. Puede recibir tanto argumentos requeridos como opcionales."
      ],
      "metadata": {
        "id": "uAP-lhMSiSaJ"
      }
    },
    {
      "cell_type": "code",
      "source": [
        "# Argumento requerido: el iterable a ordenar\n",
        "numeros = [5, 2, 9, 1]\n",
        "print(sorted(numeros))\n",
        "\n",
        "# Argumentos opcionales: key, reverse\n",
        "print(sorted(numeros, reverse=True))\n"
      ],
      "metadata": {
        "colab": {
          "base_uri": "https://localhost:8080/"
        },
        "id": "wT4ObzZHhorV",
        "outputId": "d65aaeb8-c811-4806-b0f7-65a40141d3d1"
      },
      "execution_count": null,
      "outputs": [
        {
          "output_type": "stream",
          "name": "stdout",
          "text": [
            "[1, 2, 5, 9]\n",
            "[9, 5, 2, 1]\n"
          ]
        }
      ]
    },
    {
      "cell_type": "markdown",
      "source": [
        "- Argumento requerido: En el primer caso, numeros es el argumento requerido. Es la lista de números que se ordenará.\n",
        "\n",
        "- Argumentos opcionales:\n",
        "\n",
        "    - `reverse`: Este argumento opcional es un valor booleano que, si se establece como True, ordenará los elementos en orden descendente en lugar de ascendente. En el segundo ejemplo, `reverse=True` hace que la lista se ordene de mayor a menor."
      ],
      "metadata": {
        "id": "r3mYnd88iX3F"
      }
    },
    {
      "cell_type": "markdown",
      "source": [
        "**Ejemplo 3**: La función `range()` genera una secuencia de números y puede recibir un número variable de argumentos, algunos de los cuales son opcionales."
      ],
      "metadata": {
        "id": "SexdQbVzidxN"
      }
    },
    {
      "cell_type": "code",
      "source": [
        "# Argumento requerido: el límite superior\n",
        "print(list(range(5)))\n",
        "\n",
        "# Argumentos opcionales: start, stop, step\n",
        "print(list(range(1, 10, 2)))"
      ],
      "metadata": {
        "colab": {
          "base_uri": "https://localhost:8080/"
        },
        "id": "4VEo34_8hopN",
        "outputId": "1d8d846d-e658-40b2-cb23-45687738c6cc"
      },
      "execution_count": null,
      "outputs": [
        {
          "output_type": "stream",
          "name": "stdout",
          "text": [
            "[0, 1, 2, 3, 4]\n",
            "[1, 3, 5, 7, 9]\n"
          ]
        }
      ]
    },
    {
      "cell_type": "markdown",
      "source": [
        "- Argumento requerido: En el primer caso, 5 es el argumento requerido que define el límite superior del rango (excluyendo el propio 5). Esto crea una secuencia de números desde 0 hasta 4.\n",
        "\n",
        "- Argumentos opcionales:\n",
        "\n",
        "    - `start`: Este argumento opcional define el punto de inicio de la secuencia. En el segundo ejemplo, 1 es el punto de inicio.\n",
        "\n",
        "    - `stop`: Este argumento opcional define el punto final de la secuencia (excluyendo el propio punto final). En el segundo ejemplo, 10 es el punto final.\n",
        "\n",
        "    - `step`: Este argumento opcional define el incremento entre cada número en la secuencia. En el segundo ejemplo, 2 es el incremento, lo que significa que la secuencia será 1, 3, 5, 7, 9."
      ],
      "metadata": {
        "id": "lLfmrPFsimF4"
      }
    },
    {
      "cell_type": "markdown",
      "metadata": {
        "id": "TSWryYG4fAgV"
      },
      "source": [
        "Las funciones se vuelven aún más útiles cuando comenzamos a definir las nuestras. La sintáxis general para crear una función es la siguiente\n",
        "\n",
        "\n",
        "```python\n",
        "def Nombre(argumento1, argumento2, ...):\n",
        "\n",
        "    sentencia(s)\n",
        "        \n",
        "    return expresion\n",
        "```\n",
        "    \n",
        "\n",
        "1. **Palabra clave `def`**:\n",
        "   - Para crear una función, siempre comenzamos con la palabra clave `def`. Esta le indica a Python que estamos definiendo una nueva función.\n",
        "   - Después de `def`, escribimos el **nombre de la función**. Este nombre debe ser descriptivo y seguir las reglas de nombres en Python (por ejemplo, no puede empezar con un número ni contener espacios).\n",
        "\n",
        "2. **Paréntesis y argumentos**:\n",
        "   - Después del nombre de la función, colocamos paréntesis `()`. Dentro de estos paréntesis, podemos definir **argumentos** (también llamados parámetros). Los argumentos son valores que la función recibe para trabajar con ellos.\n",
        "   - Si la función necesita más de un argumento, los separamos con comas. Por ejemplo: `(argumento1, argumento2, ...)`.\n",
        "   - Los argumentos son opcionales. Si la función no necesita recibir ningún valor, los paréntesis se dejan vacíos: `()`.\n",
        "\n",
        "3. **Dos puntos `:`**:\n",
        "   - Después de los paréntesis, siempre colocamos dos puntos `:`. Esto le indica a Python que lo que sigue es el **bloque de código** que pertenece a la función.\n",
        "\n",
        "4. **Bloque de código**:\n",
        "   - El bloque de código es donde escribimos las instrucciones que la función debe ejecutar. Este bloque debe estar **indentado** (es decir, con un espacio o tabulación hacia la derecha). Esto es muy importante en Python, ya que la indentación define qué código pertenece a la función.\n",
        "   - Aquí puedes escribir cualquier sentencia o conjunto de sentencias que realicen la tarea que deseas.\n",
        "\n",
        "5. **Palabra clave `return` (opcional)**:\n",
        "   - Al final de la función, puedes usar la palabra clave `return` para devolver un valor como resultado de la función. Este valor puede ser un número, una cadena de texto, una lista, o cualquier otro tipo de dato.\n",
        "   - Si no incluyes `return`, la función simplemente ejecutará el código pero no devolverá ningún valor.\n",
        "\n",
        "\n",
        "Supongamos que queremos crear una función que calcule el cuadrado de un número. En matemáticas, esto se representa como $ f(x) = x^2 $. En Python, podemos definir esta función de la siguiente manera:"
      ]
    },
    {
      "cell_type": "code",
      "metadata": {
        "id": "G6-3ow39fCqT"
      },
      "source": [
        "# definicion\n",
        "def f(x):\n",
        "  return x**2"
      ],
      "execution_count": null,
      "outputs": []
    },
    {
      "cell_type": "markdown",
      "metadata": {
        "id": "dHJHmLXifEFi"
      },
      "source": [
        "y la podemos *invocar la funcion* de la siguiente manera"
      ]
    },
    {
      "cell_type": "code",
      "metadata": {
        "colab": {
          "base_uri": "https://localhost:8080/"
        },
        "id": "G8RrEiQFfClJ",
        "outputId": "7aac929f-0ea5-4e62-ee52-fa75805f516c"
      },
      "source": [
        "# invocamos/llamamos de la funcion\n",
        "f(2)"
      ],
      "execution_count": null,
      "outputs": [
        {
          "output_type": "execute_result",
          "data": {
            "text/plain": [
              "4"
            ]
          },
          "metadata": {},
          "execution_count": 7
        }
      ]
    },
    {
      "cell_type": "markdown",
      "metadata": {
        "id": "C73q6CbvfIcZ"
      },
      "source": [
        "La posibilidad de definir nuestras propias funciones nos ayudará de diversas maneras:\n",
        "\n",
        "* Cuando estemos escribiendo un programa y veamos que estamos escribiendo el mismo código más de una vez, probablemente sea mejor definir una función con el código repetido. Luego podremos llamar a la función tantas veces como sea necesario en lugar de reescribir el código una y otra vez. Es importante que evitemos escribir el mismo código más de una vez en nuestros programas.\n",
        "\n",
        "* Si escribimos el mismo código más de una vez y cometemos un error, debemos corregir ese error en cada lugar donde copiamos el código. Si por el contrario, tenemos el código en un solo lugar, definido en una función, podremos resolver el error solo en este lugar y olvidarnos del resto de lugares.\n",
        "\n",
        "* Si cometemos un error al escribir una función, y luego corregimos el código en la función, habremos corregido automáticamente el código en cada lugar que utiliza la función. Este principio de programación modular es un concepto muy importante.\n",
        "\n",
        "* Las funciones también ayudan a que nuestro código sea más fácil de leer. Cuando usamos buenos nombres para las variables y funciones en nuestros programas, podemos leer el código y comprender lo que hemos escrito, no solo mientras lo escribimos, sino tiempo después, cuando necesitemos mirar el código que escribimos nuevamente.\n",
        "\n",
        "Las funciones son pues una forma de organizar nuestro código y hacerlo más legible y reutilizable.\n",
        "\n",
        "\n"
      ]
    },
    {
      "cell_type": "markdown",
      "metadata": {
        "id": "5CyoBvADfLCA"
      },
      "source": [
        "<p><a name=\"arg\"></a></p>\n",
        "\n",
        "# **Argumentos de las funcións**\n",
        "\n",
        "Podemos llamar una función utilizando los siguientes tipos de argumentos formales:\n",
        "\n",
        "* Argumentos requeridos.\n",
        "* Argumentos predeterminados.\n",
        "* Argumentos de longitud variable."
      ]
    },
    {
      "cell_type": "markdown",
      "metadata": {
        "id": "9j0rBiGifM3_"
      },
      "source": [
        "<p><a name=\"req\"></a></p>\n",
        "\n",
        "## **Argumentos requeridos**\n",
        "\n",
        "Los argumentos requeridos son argumentos pasados a una función, que tienen un carácter obligatorio y se dan en el **orden posicional correcto**. Veamos un ejemplo: creemos una función que, dados dos argumentos, nos devuelva la resta de estos:"
      ]
    },
    {
      "cell_type": "code",
      "metadata": {
        "id": "0KKdLcI8fGN6"
      },
      "source": [
        "def resta(a,b):\n",
        "  return a-b"
      ],
      "execution_count": null,
      "outputs": []
    },
    {
      "cell_type": "markdown",
      "metadata": {
        "id": "KFBnKDhlfPwH"
      },
      "source": [
        "Aquí, el número de argumentos en la llamada a la función debe coincidir exactamente con el número de argumentos definidos en la función. En este caso, para llamar la función `resta`, debemos pasar obligatoriamente los dos argumentos `a` y `b` con los que se ha definido:"
      ]
    },
    {
      "cell_type": "code",
      "metadata": {
        "id": "MUeA-PGcfOox",
        "colab": {
          "base_uri": "https://localhost:8080/"
        },
        "outputId": "fff212cf-43b1-43b6-d1dc-8759530d2579"
      },
      "source": [
        "resta(2, 1)"
      ],
      "execution_count": null,
      "outputs": [
        {
          "output_type": "execute_result",
          "data": {
            "text/plain": [
              "1"
            ]
          },
          "metadata": {},
          "execution_count": 16
        }
      ]
    },
    {
      "cell_type": "markdown",
      "metadata": {
        "id": "FGZeCYGtfSTa"
      },
      "source": [
        "Si cambiamos el orden en el que pasamos los parámetros naturalmente cambiará la salida:"
      ]
    },
    {
      "cell_type": "code",
      "metadata": {
        "colab": {
          "base_uri": "https://localhost:8080/"
        },
        "id": "gvENRiAVfTVv",
        "outputId": "84917db6-7266-4163-fda9-4b0f015931ad"
      },
      "source": [
        "resta(1,2)"
      ],
      "execution_count": null,
      "outputs": [
        {
          "output_type": "execute_result",
          "data": {
            "text/plain": [
              "-1"
            ]
          },
          "metadata": {},
          "execution_count": 17
        }
      ]
    },
    {
      "cell_type": "markdown",
      "metadata": {
        "id": "9dW4i2X-fVNk"
      },
      "source": [
        "Si los parámetros los pasamos de forma explícita no importará el orden"
      ]
    },
    {
      "cell_type": "code",
      "metadata": {
        "colab": {
          "base_uri": "https://localhost:8080/"
        },
        "id": "4rnxVdgAfTj_",
        "outputId": "9c57638c-248a-42fe-cda6-72b1c510c4d6"
      },
      "source": [
        "resta(b=1, a=2)"
      ],
      "execution_count": null,
      "outputs": [
        {
          "output_type": "execute_result",
          "data": {
            "text/plain": [
              "1"
            ]
          },
          "metadata": {},
          "execution_count": 18
        }
      ]
    },
    {
      "cell_type": "markdown",
      "metadata": {
        "id": "5FJ9dGgZfYyw"
      },
      "source": [
        "Ahora, ¿recuerda la descripción de las funciones que obtuvimos mediante la función propia de Python `help` o mediante el caractér `?`? Esta descripción  se define mediante lo que se conoce como el *Docstring*, que se puede definir dentro de una función encerrando el texto descriptivo entre tres comillas:"
      ]
    },
    {
      "cell_type": "code",
      "metadata": {
        "id": "Mk-4O02UjUxd"
      },
      "source": [
        "def resta(a, b):\n",
        "  \"\"\"\n",
        "  retorna la resta de a y b\n",
        "  \"\"\"\n",
        "  return a-b"
      ],
      "execution_count": null,
      "outputs": []
    },
    {
      "cell_type": "code",
      "metadata": {
        "id": "zjBsMr2WfbSR"
      },
      "source": [
        "resta?"
      ],
      "execution_count": null,
      "outputs": []
    },
    {
      "cell_type": "markdown",
      "source": [
        "Opcionalmente, podemos utilizar **sugerencias de tipo** para indicar estáticamente el tipo de variable de un valor dentro del código de la función"
      ],
      "metadata": {
        "id": "PyFQHTQsdj86"
      }
    },
    {
      "cell_type": "code",
      "source": [
        "def resta(a: int, b: int) -> int:\n",
        "  \"\"\"\n",
        "  retorna la resta de a y b\n",
        "  \"\"\"\n",
        "  return a-b"
      ],
      "metadata": {
        "id": "1yHM_oLseggm"
      },
      "execution_count": null,
      "outputs": []
    },
    {
      "cell_type": "markdown",
      "source": [
        "Esto no modifica de ninguna manera el funcionamiento del código ya que Python ignora estos elementos, simplemente son una forma hacer el código más legible"
      ],
      "metadata": {
        "id": "EPhrM8PWfOeI"
      }
    },
    {
      "cell_type": "code",
      "source": [
        "def resta(a: str, b: str) -> list:\n",
        "  \"\"\"\n",
        "  retorna la resta de a y b\n",
        "  \"\"\"\n",
        "  return a-b"
      ],
      "metadata": {
        "id": "OOVcG1SjfVYC"
      },
      "execution_count": null,
      "outputs": []
    },
    {
      "cell_type": "code",
      "source": [
        "resta(1,1)"
      ],
      "metadata": {
        "colab": {
          "base_uri": "https://localhost:8080/"
        },
        "id": "kWf_0kMIfYtr",
        "outputId": "a5bf22ed-704a-48a6-c885-ae1ee38525de"
      },
      "execution_count": null,
      "outputs": [
        {
          "output_type": "execute_result",
          "data": {
            "text/plain": [
              "0"
            ]
          },
          "metadata": {},
          "execution_count": 35
        }
      ]
    },
    {
      "cell_type": "markdown",
      "source": [
        "**Ejemplo:** Escriba una función que tome un string como argumento, y retorne una versión modificada del string donde se eliminen los espacios en blanco y donde todas las letras sean minúsculas, para luego escribir otra función que devuelva `True` si una palabra/frase dada es un palíndromo o `False` si no lo es"
      ],
      "metadata": {
        "id": "fV2flBzWqrpM"
      }
    },
    {
      "cell_type": "code",
      "source": [
        "def mod_str(cadena: str) -> str:\n",
        "  \"\"\"\n",
        "  retorna una version modificada de un string eliminando los\n",
        "  espacios en blanco y con todas las letras en minuscula\n",
        "  \"\"\"\n",
        "  return cadena.lower().replace(\" \",\"\")\n",
        "\n",
        "def es_palindromo(cadena):\n",
        "  \"\"\"funcion que evalua si una cadena es un palindromo\"\"\"\n",
        "  if mod_str(cadena) == mod_str(cadena[::-1]):\n",
        "    return True\n",
        "  else:\n",
        "    return False\n",
        "\n",
        "es_palindromo(\"Ala\")"
      ],
      "metadata": {
        "id": "QbLZuRO7rRVL"
      },
      "execution_count": null,
      "outputs": []
    },
    {
      "cell_type": "markdown",
      "source": [
        "**Eejemplo:**\n",
        "\n",
        "* Escriba una función que calcule el área de un círculo\n",
        "\n",
        "  $$\n",
        "  \\text{area} = \\pi r^2\n",
        "  $$\n",
        "\n",
        "  La función debe tomar como argumento el radio $r$ del círculo.\n",
        "\n",
        "* Escriba otra función que calcule el volumen de un cilindro\n",
        "\n",
        "  $$\n",
        "  \\text{volumen} = \\pi r^2 h\n",
        "  $$\n",
        "\n",
        "  La función debe tomar como argumentos el radio $r$ del cilindro y la altura $h$."
      ],
      "metadata": {
        "id": "B3dsyZvbqGKO"
      }
    },
    {
      "cell_type": "code",
      "source": [
        "pi = 3.14\n",
        "\n",
        "def calcular_area_circulo(radio: float) -> float:\n",
        "  \"\"\"\n",
        "  retorna el area de un circulo\n",
        "  \"\"\"\n",
        "  return pi * radio ** 2\n",
        "\n",
        "# ivocamos la funcion calcular_area_circulo\n",
        "calcular_area_circulo(3)"
      ],
      "metadata": {
        "id": "qdv4nwQLqm-K",
        "colab": {
          "base_uri": "https://localhost:8080/"
        },
        "outputId": "116905c4-cc03-4087-ab41-18385531061b"
      },
      "execution_count": null,
      "outputs": [
        {
          "output_type": "execute_result",
          "data": {
            "text/plain": [
              "28.26"
            ]
          },
          "metadata": {},
          "execution_count": 11
        }
      ]
    },
    {
      "cell_type": "code",
      "source": [
        "def calcular_volumen_cilindro(radio: float, altura: float) -> float:\n",
        "  \"\"\"\n",
        "  retorna el volumen de un cilindro\n",
        "  \"\"\"\n",
        "  return calcular_area_circulo(radio) * altura\n",
        "\n",
        "# invocmaos la funcion calcular_volumen_cilindro\n",
        "calcular_volumen_cilindro(3, 5)"
      ],
      "metadata": {
        "id": "ErXw1hwxsF7p",
        "colab": {
          "base_uri": "https://localhost:8080/"
        },
        "outputId": "e91fcbbc-3f91-4435-b10f-d0faca20b603"
      },
      "execution_count": null,
      "outputs": [
        {
          "output_type": "execute_result",
          "data": {
            "text/plain": [
              "141.3"
            ]
          },
          "metadata": {},
          "execution_count": 12
        }
      ]
    },
    {
      "cell_type": "markdown",
      "metadata": {
        "id": "MQWWd_OQfn_K"
      },
      "source": [
        "<p><a name=\"pre\"></a></p>\n",
        "\n",
        "## **Argumentos predeterminados (*kwarg*)**\n",
        "\n",
        "A menudo, al definir una función, hay ciertos valores que queremos que la función use la mayor parte del tiempo, pero también nos gustaría tener cierta flexibilidad en la elección de estos valores. En tal caso, podemos usar valores predeterminados para los argumentos. Veamos cómo definirlos:\n",
        "\n",
        "Redefinamos, por ejemplo, la función `saludo` de manera que el argumento `nombre` tome un valor predeterminado\n",
        "\n"
      ]
    },
    {
      "cell_type": "code",
      "metadata": {
        "id": "uhts4jWXfliQ"
      },
      "source": [
        "def saludo(nombre=\"Carlos\"):\n",
        "  \"\"\"\n",
        "  retorna un saludo\n",
        "  \"\"\"\n",
        "  return f\"Hola {nombre}, ¿cómo estás?\""
      ],
      "execution_count": null,
      "outputs": []
    },
    {
      "cell_type": "markdown",
      "metadata": {
        "id": "neP9wHp0frY5"
      },
      "source": [
        "De esta manera, el parámetro `nombre` no es requerido al momento de llamar la función"
      ]
    },
    {
      "cell_type": "code",
      "metadata": {
        "colab": {
          "base_uri": "https://localhost:8080/",
          "height": 36
        },
        "id": "iM6uCYx2fpof",
        "outputId": "18df42a4-acc8-4ec6-c541-1a666b68a99a"
      },
      "source": [
        "saludo()"
      ],
      "execution_count": null,
      "outputs": [
        {
          "output_type": "execute_result",
          "data": {
            "text/plain": [
              "'Hola Carlos, ¿cómo estás?'"
            ],
            "application/vnd.google.colaboratory.intrinsic+json": {
              "type": "string"
            }
          },
          "metadata": {},
          "execution_count": 15
        }
      ]
    },
    {
      "cell_type": "markdown",
      "metadata": {
        "id": "bH__AEnGfueO"
      },
      "source": [
        "Cuando en una función uno de sus argumentos lleva un valor por defecto, éste se convierte automáticamente en un *kwarg*. Por lo tanto, puede ser especificado utilizando la posición del argumento"
      ]
    },
    {
      "cell_type": "code",
      "metadata": {
        "colab": {
          "base_uri": "https://localhost:8080/",
          "height": 36
        },
        "id": "fl7UPHi3fvrn",
        "outputId": "d4546b0a-3d22-45f4-e000-20be2c09be32"
      },
      "source": [
        "# utilizando la posicion del arg\n",
        "saludo(\"Camila\")"
      ],
      "execution_count": null,
      "outputs": [
        {
          "output_type": "execute_result",
          "data": {
            "text/plain": [
              "'Hola Camila, ¿cómo estás?'"
            ],
            "application/vnd.google.colaboratory.intrinsic+json": {
              "type": "string"
            }
          },
          "metadata": {},
          "execution_count": 16
        }
      ]
    },
    {
      "cell_type": "markdown",
      "source": [
        "o indicando su nombre al momento de llamar la función"
      ],
      "metadata": {
        "id": "fPLvq9yJgGKe"
      }
    },
    {
      "cell_type": "code",
      "metadata": {
        "colab": {
          "base_uri": "https://localhost:8080/",
          "height": 36
        },
        "id": "8bnsX4bbfsv_",
        "outputId": "f521e4e7-7ac6-49f1-8717-76f3d5f080c0"
      },
      "source": [
        "# utilizando la palabra clave\n",
        "saludo(nombre=\"Camila\")"
      ],
      "execution_count": null,
      "outputs": [
        {
          "output_type": "execute_result",
          "data": {
            "text/plain": [
              "'Hola Camila, ¿cómo estás?'"
            ],
            "application/vnd.google.colaboratory.intrinsic+json": {
              "type": "string"
            }
          },
          "metadata": {},
          "execution_count": 17
        }
      ]
    },
    {
      "cell_type": "markdown",
      "metadata": {
        "id": "WZ1IU278f0KK"
      },
      "source": [
        "Debemos tener en cuenta que a la hora de definir los argumentos de la función y de la llamada de esta, todos los argumentos requeridos deben definirse antes de los kwargs (es decir los no requeridos)\n"
      ]
    },
    {
      "cell_type": "code",
      "metadata": {
        "id": "j_vEmsn2fyK3"
      },
      "source": [
        "# forma correcta\n",
        "def PrintInfo(nombre, año=2019):\n",
        "  pass\n",
        "\n",
        "PrintInfo(\"Carlos\", año=2020)"
      ],
      "execution_count": null,
      "outputs": []
    },
    {
      "cell_type": "code",
      "source": [
        "# forma incorrecta\n",
        "def PrintInfo(año=2019, nombre):\n",
        "  pass\n",
        "\n",
        "PrintInfo(año=2020, \"Carlos\")"
      ],
      "metadata": {
        "id": "8GtVgFFP0Hfc"
      },
      "execution_count": null,
      "outputs": []
    },
    {
      "cell_type": "markdown",
      "source": [
        "**Ejemplo** Escribir una función que calcule el total de una factura tras aplicarle el IVA. La función debe recibir la cantidad sin IVA y el porcentaje de IVA a aplicar, y devolver el total de la factura. Si se invoca la función sin pasarle el porcentaje de IVA, deberá aplicar un 21%."
      ],
      "metadata": {
        "id": "dsVZVTxit3za"
      }
    },
    {
      "cell_type": "code",
      "source": [
        "def calcular_total(valor: float, iva: float = 21) -> float:\n",
        "  \"\"\"\n",
        "  retorna el valor total de una factura incluyendo el iva\n",
        "\n",
        "  Parametros:\n",
        "  ------------------------------\n",
        "  valor:\n",
        "    cantidad a pagar sin IVA\n",
        "  iva:\n",
        "    porcentaje de IVA\n",
        "  \"\"\"\n",
        "  return valor + valor * (iva / 100)"
      ],
      "metadata": {
        "id": "IHM6khYKu4sG"
      },
      "execution_count": null,
      "outputs": []
    },
    {
      "cell_type": "markdown",
      "source": [
        "## **Argumentos de longitud Varaible**\n",
        "\n",
        "Cuando creas una función en Python, normalmente defines cuántos argumentos (o parámetros) va a recibir esta función. Sin embargo, a veces no sabes de antemano cuántos argumentos necesitarás. En estos casos, puedes usar argumentos de longitud variable."
      ],
      "metadata": {
        "id": "pLjld98s2jvP"
      }
    },
    {
      "cell_type": "markdown",
      "source": [
        "En Python, puedes usar dos tipos de argumentos de longitud variable:\n",
        "\n",
        "- `*args` (argumentos sin nombre): Te permite pasar un número variable de argumentos posicionales a una función. Básicamente, se agrupan todos los argumentos adicionales en una tupla llamada args.\n",
        "\n",
        "- `**kwargs` (argumentos con nombre o keyword arguments): Te permite pasar un número variable de argumentos nombrados (es decir, con clave y valor) a una función. Se agrupan en un diccionario llamado kwargs.\n",
        "\n",
        "veamos ahora algunos ejemplos de esto:"
      ],
      "metadata": {
        "id": "Mhr0F0j_20EX"
      }
    },
    {
      "cell_type": "markdown",
      "source": [
        "**Ejemplo 1**: En el ejemplo, la función saludar_amigos puede recibir cualquier cantidad de nombres. Cada nombre pasado como argumento se imprime con un saludo."
      ],
      "metadata": {
        "id": "S1msdrSD8QwR"
      }
    },
    {
      "cell_type": "code",
      "source": [
        "def saludar_amigos(*args):\n",
        "    # 'args' es una tupla que contiene todos los argumentos posicionales pasados a la función\n",
        "    for amigo in args:\n",
        "        # Para cada nombre en 'args', imprime un saludo\n",
        "        print(f\"Hola, {amigo}!\")\n",
        "\n",
        "# Llamar a la función con diferentes números de amigos\n",
        "saludar_amigos('Ana', 'Luis', 'Carlos')  # Llama a la función con tres amigos\n",
        "saludar_amigos('María', 'José')          # Llama a la función con dos amigos"
      ],
      "metadata": {
        "id": "9sGLkj6B2uM2"
      },
      "execution_count": null,
      "outputs": []
    },
    {
      "cell_type": "markdown",
      "source": [
        "**Ejemplo 2**: Aquí, la función imprimir_info acepta cualquier cantidad de argumentos nombrados. Dentro de la función, puedes acceder a ellos como pares clave-valor, lo que te permite trabajar con ellos fácilmente."
      ],
      "metadata": {
        "id": "B_wZVUO68e9n"
      }
    },
    {
      "cell_type": "code",
      "source": [
        "def imprimir_info(**kwargs):\n",
        "    # 'kwargs' es un diccionario que contiene todos los argumentos nombrados pasados a la función\n",
        "    for clave, valor in kwargs.items():\n",
        "        # Para cada par clave-valor en 'kwargs', imprime la información\n",
        "        print(f\"{clave}: {valor}\")\n",
        "\n",
        "# Llamar a la función con diferentes pares clave-valor\n",
        "imprimir_info(nombre=\"Ana\", edad=25, ciudad=\"Madrid\")  # Proporciona información de tres campos\n",
        "imprimir_info(nombre=\"Carlos\", profesion=\"Ingeniero\")  # Proporciona información de dos campos"
      ],
      "metadata": {
        "id": "LvXXeCq_8ehg"
      },
      "execution_count": null,
      "outputs": []
    },
    {
      "cell_type": "markdown",
      "source": [
        "<p><a name=\"alc\"></a></p>\n",
        "\n",
        "# **Alcance de las variables**\n",
        "\n",
        "Una variable solo está disponible desde dentro de la región en la que se defina. A esto se le conoce como *alcance*.\n",
        "\n",
        "\n"
      ],
      "metadata": {
        "id": "N-pKdUHV1MhZ"
      }
    },
    {
      "cell_type": "markdown",
      "source": [
        "**Alcance local**:\n",
        "\n",
        "Una variable creada dentro de una función pertenece al ámbito local de esa función y solo se puede usar dentro de esa función."
      ],
      "metadata": {
        "id": "JyOOvh-i1olM"
      }
    },
    {
      "cell_type": "code",
      "source": [
        "def myfunc():\n",
        "  x = 1\n",
        "  print(x)\n",
        "\n",
        "myfunc()"
      ],
      "metadata": {
        "colab": {
          "base_uri": "https://localhost:8080/"
        },
        "id": "JbvBwMUK1nHw",
        "outputId": "ed670316-6b4c-4734-e4ee-e7007a5f4f21"
      },
      "execution_count": null,
      "outputs": [
        {
          "output_type": "stream",
          "name": "stdout",
          "text": [
            "1\n"
          ]
        }
      ]
    },
    {
      "cell_type": "markdown",
      "source": [
        "La variable `x` no está disponible fuera de la función\n"
      ],
      "metadata": {
        "id": "sF9nKe7714ao"
      }
    },
    {
      "cell_type": "code",
      "source": [
        "x"
      ],
      "metadata": {
        "colab": {
          "base_uri": "https://localhost:8080/",
          "height": 166
        },
        "id": "FcSkV0Kv19jI",
        "outputId": "7af9c8a4-9e40-49e0-e5c0-785953a7cfa0"
      },
      "execution_count": null,
      "outputs": [
        {
          "output_type": "error",
          "ename": "NameError",
          "evalue": "ignored",
          "traceback": [
            "\u001b[0;31m---------------------------------------------------------------------------\u001b[0m",
            "\u001b[0;31mNameError\u001b[0m                                 Traceback (most recent call last)",
            "\u001b[0;32m<ipython-input-82-6fcf9dfbd479>\u001b[0m in \u001b[0;36m<module>\u001b[0;34m()\u001b[0m\n\u001b[0;32m----> 1\u001b[0;31m \u001b[0mx\u001b[0m\u001b[0;34m\u001b[0m\u001b[0;34m\u001b[0m\u001b[0m\n\u001b[0m",
            "\u001b[0;31mNameError\u001b[0m: name 'x' is not defined"
          ]
        }
      ]
    },
    {
      "cell_type": "markdown",
      "source": [
        "pero está disponible para realizar cualquier operación dentro de la función:"
      ],
      "metadata": {
        "id": "vw8mhWQg2AdE"
      }
    },
    {
      "cell_type": "code",
      "source": [
        "def myfunc():\n",
        "  x = 1\n",
        "  y = x + 1\n",
        "  print(x + y)\n",
        "\n",
        "myfunc()"
      ],
      "metadata": {
        "colab": {
          "base_uri": "https://localhost:8080/"
        },
        "id": "CuiWWUFz2CzO",
        "outputId": "dea4cf53-c54a-4c54-8fd6-4220b2286053"
      },
      "execution_count": null,
      "outputs": [
        {
          "output_type": "stream",
          "name": "stdout",
          "text": [
            "3\n"
          ]
        }
      ]
    },
    {
      "cell_type": "markdown",
      "source": [
        "**Alcance global**\n",
        "\n",
        "Una variable creada en el cuerpo principal del código es una variable global y pertenece al ámbito global. Las variables globales están disponibles desde cualquier ámbito, global y local."
      ],
      "metadata": {
        "id": "SbspOZUr2KOz"
      }
    },
    {
      "cell_type": "code",
      "source": [
        "x = 1\n",
        "\n",
        "def myfunc():\n",
        "  print(x)\n",
        "\n",
        "myfunc()\n",
        "\n",
        "print(x)"
      ],
      "metadata": {
        "colab": {
          "base_uri": "https://localhost:8080/"
        },
        "id": "TxfEshLR2Sko",
        "outputId": "a6d38bb2-983f-4b83-d7d6-42eb1e7851a6"
      },
      "execution_count": null,
      "outputs": [
        {
          "output_type": "stream",
          "name": "stdout",
          "text": [
            "1\n",
            "1\n"
          ]
        }
      ]
    },
    {
      "cell_type": "markdown",
      "source": [
        "Si operamos con el mismo nombre de variable dentro y fuera de una función, Python las tratará como dos variables diferentes, una disponible en el ámbito global (fuera de la función) y otra disponible en el ámbito local (dentro de la función):\n"
      ],
      "metadata": {
        "id": "8kw0Ip0T2Z6o"
      }
    },
    {
      "cell_type": "code",
      "source": [
        "x = 1\n",
        "\n",
        "def myfunc():\n",
        "  x = 2\n",
        "  print(x)\n",
        "\n",
        "myfunc()\n",
        "\n",
        "print(x)"
      ],
      "metadata": {
        "colab": {
          "base_uri": "https://localhost:8080/"
        },
        "id": "oHsjJw9s2d79",
        "outputId": "c93fe405-dc7a-4391-fa0b-124b75c2eb13"
      },
      "execution_count": null,
      "outputs": [
        {
          "output_type": "stream",
          "name": "stdout",
          "text": [
            "2\n",
            "1\n"
          ]
        }
      ]
    },
    {
      "cell_type": "markdown",
      "source": [
        "Si necesitamos crear una variable global, pero esta está en el ámbito local, podemos usar la palabra clave `global`.\n"
      ],
      "metadata": {
        "id": "HiLSg5ED2iiq"
      }
    },
    {
      "cell_type": "code",
      "source": [
        "def myfunc():\n",
        "  global x\n",
        "  x = 3\n",
        "  print(x)\n",
        "\n",
        "myfunc()\n",
        "\n",
        "print(x)"
      ],
      "metadata": {
        "colab": {
          "base_uri": "https://localhost:8080/"
        },
        "id": "mIi2PpPH248w",
        "outputId": "e86af08a-dd6a-40dd-a179-95bfeea2c30b"
      },
      "execution_count": null,
      "outputs": [
        {
          "output_type": "stream",
          "name": "stdout",
          "text": [
            "3\n",
            "3\n"
          ]
        }
      ]
    },
    {
      "cell_type": "markdown",
      "source": [
        "Adicionalmente, podemos usar la palabra clave `global` si deseamos realizar un cambio en una variable global dentro de una función.\n"
      ],
      "metadata": {
        "id": "jChgxRr33AJ7"
      }
    },
    {
      "cell_type": "code",
      "source": [
        "x = 3\n",
        "\n",
        "def myfunc():\n",
        "  global x\n",
        "  x = 2\n",
        "  print(x)\n",
        "\n",
        "myfunc()\n",
        "\n",
        "print(x)"
      ],
      "metadata": {
        "colab": {
          "base_uri": "https://localhost:8080/"
        },
        "id": "wwkqbD_53E7B",
        "outputId": "7fc2198b-80be-4765-940a-8aa8594f19f4"
      },
      "execution_count": null,
      "outputs": [
        {
          "output_type": "stream",
          "name": "stdout",
          "text": [
            "2\n",
            "2\n"
          ]
        }
      ]
    },
    {
      "cell_type": "markdown",
      "source": [
        "<p><a name=\"cla\"></a></p>\n",
        "\n",
        "# **Clases**\n",
        "\n",
        "En programación orientada a objetos (POO), una clase es un modelo o plantilla que define la estructura y el comportamiento de los objetos que se crean a partir de ella. Piensa en una clase como el plano de una casa: define cómo será la casa, pero no es una casa en sí misma. Los objetos son como las casas construidas a partir de ese plano. Las clases nos permiten agrupar datos (atributos) y funciones (métodos) que trabajan sobre esos datos en una sola entidad.\n",
        "\n",
        "<h3><b>Definición de una Clase<b><h3>\n",
        "\n",
        "Para definir una clase en Python, usamos la palabra clave `class` seguida del nombre de la clase y dos puntos. El nombre de la clase se escribe por convención con la primera letra en mayúscula.\n",
        "\n",
        "```\n",
        "class MiClase:\n",
        "    # Este es el cuerpo de la clase\n",
        "    sentence(s)\n",
        "```\n",
        "\n",
        "Veamos un ejemplo:"
      ],
      "metadata": {
        "id": "8AbJexcCFVMa"
      }
    },
    {
      "cell_type": "code",
      "source": [
        "class Persona:\n",
        "  pass"
      ],
      "metadata": {
        "id": "UoBZK3ZJFWMD"
      },
      "execution_count": null,
      "outputs": []
    },
    {
      "cell_type": "markdown",
      "source": [
        "En este ejemplo, `Persona` es el nombre de la clase y `pass` es una palabra clave que indica que no hay nada en el cuerpo de la clase por ahora."
      ],
      "metadata": {
        "id": "LeOTFDSg7F6e"
      }
    },
    {
      "cell_type": "markdown",
      "source": [
        "Una vez definida la clase, podemos definir una instancia de la clase para tener un objeto"
      ],
      "metadata": {
        "id": "Q_oG7U_DFWeQ"
      }
    },
    {
      "cell_type": "code",
      "source": [
        "p1 = Persona()\n",
        "p1"
      ],
      "metadata": {
        "colab": {
          "base_uri": "https://localhost:8080/"
        },
        "id": "9Fj3IQqtFW2Q",
        "outputId": "20eeeb7d-fa6d-4c8f-cfe9-640a24ca8d9e"
      },
      "execution_count": null,
      "outputs": [
        {
          "output_type": "execute_result",
          "data": {
            "text/plain": [
              "<__main__.Persona at 0x78989b923f10>"
            ]
          },
          "metadata": {},
          "execution_count": 24
        }
      ]
    },
    {
      "cell_type": "code",
      "source": [
        "p2 = Persona()\n",
        "p2"
      ],
      "metadata": {
        "id": "D-aBtxrAHBKD",
        "colab": {
          "base_uri": "https://localhost:8080/"
        },
        "outputId": "838fe82c-b87a-4be9-bb5f-9f61d4380e61"
      },
      "execution_count": null,
      "outputs": [
        {
          "output_type": "execute_result",
          "data": {
            "text/plain": [
              "<__main__.Persona at 0x7898bbfa6c50>"
            ]
          },
          "metadata": {},
          "execution_count": 25
        }
      ]
    },
    {
      "cell_type": "markdown",
      "source": [
        "<h3><b>Atributos de Clase<b><h3>\n",
        "\n",
        "Los atributos son las variables que pertenecen a una clase. Hay dos tipos principales de atributos: de clase y de instancia.\n",
        "\n",
        "- Atributos de Clase: Son compartidos por todas las instancias de la clase.\n",
        "\n",
        "- Atributos de Instancia: Son únicos para cada instancia de la clase.\n",
        "\n",
        "\n",
        "<h3><b>Atributos de Instancia<b><h3>\n",
        "\n",
        "Para definir atributos de instancia, se utiliza el método especial `__init__`, que es el constructor de la clase. Este método se llama automáticamente cuando se crea una nueva instancia de la clase."
      ],
      "metadata": {
        "id": "Tg1-UqoG31Lo"
      }
    },
    {
      "cell_type": "code",
      "source": [
        "class Persona:\n",
        "    def __init__(self, nombre, edad):\n",
        "        self.nombre = nombre  # Atributo de instancia\n",
        "        self.edad = edad      # Atributo de instancia"
      ],
      "metadata": {
        "id": "ycF38G9V4Eap"
      },
      "execution_count": null,
      "outputs": []
    },
    {
      "cell_type": "markdown",
      "source": [
        "<h3><b>Métodos de Clase<b><h3>\n",
        "\n",
        "Un método en Python es una función que está definida dentro de una clase y que opera sobre instancias de esa clase. Los métodos permiten que los objetos interactúen con sus atributos y realicen acciones.\n",
        "\n",
        "Para definir un método dentro de una clase, simplemente se escribe una función como lo harías normalmente en Python, pero dentro del cuerpo de la clase. El primer parámetro de cualquier método debe ser siempre `self`."
      ],
      "metadata": {
        "id": "DfaIo3356cla"
      }
    },
    {
      "cell_type": "code",
      "source": [
        "class Persona:\n",
        "    def __init__(self, nombre, edad):\n",
        "        self.nombre = nombre\n",
        "        self.edad = edad\n",
        "\n",
        "    def saludar(self):\n",
        "        print(f\"Hola, mi nombre es {self.nombre} y tengo {self.edad} años.\")\n"
      ],
      "metadata": {
        "id": "zz5HQKdO6aaT"
      },
      "execution_count": null,
      "outputs": []
    },
    {
      "cell_type": "markdown",
      "source": [
        "En este ejemplo, `Persona` tiene un método llamado saludar que imprime un mensaje usando los atributos `nombre` y `edad`."
      ],
      "metadata": {
        "id": "htjPWaa87suv"
      }
    },
    {
      "cell_type": "markdown",
      "source": [
        "<h2><b>¿Qué es  self? <b><h2>\n",
        "\n",
        "El parámetro self es una convención en Python que se refiere a la instancia actual de la clase. Es el primer parámetro de cualquier método en una clase. self permite que el método acceda a los atributos y otros métodos de la instancia.\n",
        "\n",
        "\n",
        "<h2><b>¿Por qué usamos self? <b><h2>\n",
        "\n",
        "Usamos `self` para:\n",
        "\n",
        "- Acceder a los Atributos de la Instancia: Permite que los métodos accedan y modifiquen los atributos de la instancia.\n",
        "\n",
        "- Llamar a Otros Métodos de la Instancia: Permite que los métodos llamen a otros métodos de la misma instancia.\n",
        "\n",
        "Veamos un ejemplo más detallado sobre cómo usar self:"
      ],
      "metadata": {
        "id": "S82LdUoe8Gd4"
      }
    },
    {
      "cell_type": "code",
      "source": [
        "class Coche:\n",
        "    def __init__(self, marca, modelo, año):\n",
        "        self.marca = marca\n",
        "        self.modelo = modelo\n",
        "        self.año = año\n",
        "\n",
        "    def describir(self):\n",
        "        print(f\"Este coche es un {self.marca} {self.modelo} del año {self.año}.\")\n",
        "\n",
        "    def es_moderno(self):\n",
        "        if self.año > 2015:\n",
        "            return True\n",
        "        else:\n",
        "            return False\n",
        "\n",
        "# Crear una instancia de la clase Coche\n",
        "mi_coche = Coche(\"Toyota\", \"Corolla\", 2020)\n",
        "\n",
        "# Llamar a los métodos de la instancia\n",
        "mi_coche.describir()  # Salida: Este coche es un Toyota Corolla del año 2020.\n",
        "print(mi_coche.es_moderno())  # Salida: True\n"
      ],
      "metadata": {
        "colab": {
          "base_uri": "https://localhost:8080/"
        },
        "id": "QgDi628M6aXj",
        "outputId": "ab7b3187-6eb6-4ee8-fd9c-ff5485acceee"
      },
      "execution_count": null,
      "outputs": [
        {
          "output_type": "stream",
          "name": "stdout",
          "text": [
            "Este coche es un Toyota Corolla del año 2020.\n",
            "True\n"
          ]
        }
      ]
    },
    {
      "cell_type": "markdown",
      "source": [
        "En este ejemplo:\n",
        "\n",
        "- El método describir usa self para acceder a los atributos marca, modelo y año de la instancia y imprime un mensaje.\n",
        "\n",
        "- El método es_moderno usa self para acceder al atributo año y determina si el coche es moderno según el año de fabricación."
      ],
      "metadata": {
        "id": "-iSvunTF8l0h"
      }
    },
    {
      "cell_type": "markdown",
      "source": [
        "\n",
        "<h2><b>Creación de Instancias <b><h2>\n",
        "\n",
        "Para crear una instancia de una clase, simplemente llamamos a la clase como si fuera una función, pasando los argumentos requeridos por el constructor `__init__`."
      ],
      "metadata": {
        "id": "mJnN31Kn9hFI"
      }
    },
    {
      "cell_type": "code",
      "source": [
        "persona1 = Persona(\"Alice\", 30)\n",
        "persona1.saludar()  # Salida: Hola, mi nombre es Alice y tengo 30 años."
      ],
      "metadata": {
        "colab": {
          "base_uri": "https://localhost:8080/"
        },
        "id": "AhViiirH6aVQ",
        "outputId": "e7a37a11-2791-4354-aee1-9d1cae58373b"
      },
      "execution_count": null,
      "outputs": [
        {
          "output_type": "stream",
          "name": "stdout",
          "text": [
            "Hola, mi nombre es Alice y tengo 30 años.\n"
          ]
        }
      ]
    },
    {
      "cell_type": "markdown",
      "source": [
        "En este ejemplo, hemos creado una instancia de `Persona` llamada `persona1` y llamamos al método `saludar`."
      ],
      "metadata": {
        "id": "_tutaPvB9rVu"
      }
    },
    {
      "cell_type": "markdown",
      "metadata": {
        "id": "ODp_nN5ZsJ1o"
      },
      "source": [
        "**Ejemplos:**\n",
        "\n",
        "* Crear tres funciones que calculen el área, el perimetro y la diagonal de un rectángulo dados el ancho (b) y la altura del rectángulo (h)\n",
        "\n",
        "\n",
        "\n"
      ]
    },
    {
      "cell_type": "markdown",
      "source": [
        "<p><img alt=\"Colaboratory logo\" height=\"350px\" src=\"https://i.imgur.com/IOwH8qB.png\" align=\"center\" hspace=\"10px\" vspace=\"0px\"></p>  "
      ],
      "metadata": {
        "id": "GxOodpNax0Gj"
      }
    },
    {
      "cell_type": "markdown",
      "source": [
        "* Defina una clase que se llame `rectangulo` cuyos atributos sean la altura y el ancho del rectángulo"
      ],
      "metadata": {
        "id": "hUC-Yzsex0ba"
      }
    },
    {
      "cell_type": "code",
      "source": [
        "# definimos la clase rectangulo\n",
        "class Rectangulo:\n",
        "  def __init__(self, altura, ancho):\n",
        "    self.altura = altura\n",
        "    self.ancho = ancho\n",
        "\n",
        "  def area(self):\n",
        "    return self.altura * self.ancho\n",
        "\n",
        "  def perimetro(self):\n",
        "    return 2 * (self.altura + self.ancho)\n",
        "\n",
        "  def diagonal(self):\n",
        "    return (self.altura ** 2 + self.ancho ** 2) ** 0.5"
      ],
      "metadata": {
        "id": "77F5vScHxfho"
      },
      "execution_count": null,
      "outputs": []
    },
    {
      "cell_type": "code",
      "source": [
        "# creamos una instancia de la clase Rectangulo y usamos sus metodos\n",
        "rectangulo = Rectangulo(3, 4)\n",
        "print(rectangulo.area())\n",
        "print(rectangulo.perimetro())\n",
        "print(rectangulo.diagonal())"
      ],
      "metadata": {
        "id": "V3fFsIl6zkHs",
        "colab": {
          "base_uri": "https://localhost:8080/"
        },
        "outputId": "07f1b148-c285-4b35-cb39-7fcbe05bfb2f"
      },
      "execution_count": null,
      "outputs": [
        {
          "output_type": "stream",
          "name": "stdout",
          "text": [
            "12\n",
            "14\n",
            "5.0\n"
          ]
        }
      ]
    }
  ]
}